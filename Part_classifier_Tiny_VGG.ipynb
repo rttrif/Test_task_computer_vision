{
  "cells": [
    {
      "cell_type": "markdown",
      "id": "bb3c9f1b-ca7e-410e-ad67-509eb0757bea",
      "metadata": {
        "id": "bb3c9f1b-ca7e-410e-ad67-509eb0757bea"
      },
      "source": [
        "# Тестовое задание на позицию Computer Vision Data Scientist\n",
        "\n",
        "# MODEL FROM SCRATCH"
      ]
    },
    {
      "cell_type": "code",
      "source": [
        "from google.colab import drive\n",
        "drive.mount('/content/drive')"
      ],
      "metadata": {
        "colab": {
          "base_uri": "https://localhost:8080/"
        },
        "id": "jZ_utrItWK1s",
        "outputId": "d622ef10-6328-414f-bf4d-0d52a3acb539"
      },
      "id": "jZ_utrItWK1s",
      "execution_count": 1,
      "outputs": [
        {
          "output_type": "stream",
          "name": "stdout",
          "text": [
            "Drive already mounted at /content/drive; to attempt to forcibly remount, call drive.mount(\"/content/drive\", force_remount=True).\n"
          ]
        }
      ]
    },
    {
      "cell_type": "markdown",
      "id": "28179bda-ac60-4824-8994-744df2011e7e",
      "metadata": {
        "id": "28179bda-ac60-4824-8994-744df2011e7e"
      },
      "source": [
        "### Задача\n",
        "\n",
        "> **Необходимо построить классификатор деталей по фотографиям, который будет предсказывать один из двух классов: «маленькая» или «большая» деталь на изображении.**\n",
        "\n",
        "> **Необходимо добиться максимальной точности предсказания классов.**\n",
        "\n",
        "**В качестве решения необходимо приложить:**\n",
        "- код обучения модели (может быть оформлен как .ipynb-ноутбук или файл с расширением .py)\n",
        "\n",
        "- код использования модели (должен являться программным файлом расширения .py) со всеми необходимыми файлами для возможности проверки работы решения (например, весами обученной модели)\n",
        "\n",
        "- файл readme с описанием запуска файла использования модели.\n",
        "\n",
        "**Формат решения:** ссылка на репозиторий со всеми перечисленными файлами решения.\n",
        "\n",
        "#### Время выполнения задания: 3 дня\n",
        "\n",
        "**Данные**\n",
        "- Имеются фотографии двух деталей – около 40 фотографий «большой» детали и около 20 фотографий «маленькой» детали.\n",
        "- Две трети фотографий отнесены к обучающей выборке, треть – к тестовой.\n",
        "\n",
        "Данные внутри обучающей и тестовых выборок разбиты на два класса: «маленькие» и «большие».\n",
        "\n",
        "Ссылка на данные - https://drive.google.com/file/d/1RDAeRaX526vcZ4PcZnYqSFqsibmxMdmd/view\n"
      ]
    },
    {
      "cell_type": "markdown",
      "id": "EpeT-iOTENoV",
      "metadata": {
        "id": "EpeT-iOTENoV"
      },
      "source": [
        "## Анализ решения \n",
        "1. Поставлена задача бинарной классификации изображений\n",
        "1. Необходимо сделать исследование лучших моделей для ее решения \n",
        "1. Отобрать 3 кандидата на основании поиска и реализовать их \n",
        "1. Обучить модели \n",
        "1. Сделать сравнительный анализ результатов и отобрать лучшее решение \n",
        "1. Сделать развертывание лучшего решения \n",
        "\n",
        "**Особенности**\n",
        "\n",
        "Нет ограничения на время обучения модели, главное добиться максимальной точности. \n"
      ]
    },
    {
      "cell_type": "markdown",
      "id": "5796d77a-31fc-4db8-ad0a-61286b44620c",
      "metadata": {
        "id": "5796d77a-31fc-4db8-ad0a-61286b44620c"
      },
      "source": [
        "### IMPORT LIBRARIES"
      ]
    },
    {
      "cell_type": "code",
      "execution_count": 2,
      "id": "d337129c-a7f5-4d1c-acc8-22aed7238f24",
      "metadata": {
        "id": "d337129c-a7f5-4d1c-acc8-22aed7238f24"
      },
      "outputs": [],
      "source": [
        "# GENERAL\n",
        "import pandas as pd\n",
        "import numpy as np\n",
        "import seaborn as sns\n",
        "import matplotlib.pyplot as plt\n",
        "\n",
        "# PATH PROCESS\n",
        "import os\n",
        "import os.path\n",
        "from pathlib import Path\n",
        "import glob\n",
        "import itertools\n",
        "\n",
        "from sklearn.model_selection import train_test_split\n",
        "from sklearn.preprocessing import MinMaxScaler\n",
        "from sklearn.metrics import mean_squared_error\n",
        "from sklearn.metrics import confusion_matrix\n",
        "from sklearn.preprocessing import LabelEncoder\n",
        "from sklearn.metrics import classification_report, f1_score, precision_score, recall_score\n",
        "\n",
        "import tensorflow as tf\n",
        "from tensorflow.keras.models import Sequential, Model, load_model\n",
        "from tensorflow.keras.layers import Activation, Dense, Dropout, Flatten, Conv2D, MaxPooling2D, MaxPool2D, \\\n",
        "    AveragePooling2D, GlobalMaxPooling2D\n",
        "\n",
        "from tensorflow.keras.preprocessing import image\n",
        "\n",
        "from tensorflow.keras.wrappers.scikit_learn import KerasClassifier\n",
        "from tensorflow.keras.layers import BatchNormalization\n",
        "from tensorflow.keras.utils import to_categorical  # convert to one-hot-encoding\n",
        "from tensorflow.keras import regularizers\n",
        "from tensorflow.keras.optimizers import Adam, SGD\n",
        "from tensorflow.keras.preprocessing.image import ImageDataGenerator, array_to_img\n",
        "from tensorflow.keras.callbacks import ReduceLROnPlateau, EarlyStopping, ModelCheckpoint\n",
        "from tensorflow.keras.metrics import PrecisionAtRecall, Recall\n",
        "\n",
        "import warnings\n",
        "warnings.simplefilter(action=\"ignore\", category=FutureWarning)"
      ]
    },
    {
      "cell_type": "markdown",
      "id": "0a877e74-82d3-42aa-b4a4-16eb0e6c48f9",
      "metadata": {
        "id": "0a877e74-82d3-42aa-b4a4-16eb0e6c48f9"
      },
      "source": [
        "### PATH & LABEL PROCESS"
      ]
    },
    {
      "cell_type": "code",
      "execution_count": 3,
      "id": "bb672f32-e8d6-4e1f-8c6b-5920f03f3e87",
      "metadata": {
        "id": "bb672f32-e8d6-4e1f-8c6b-5920f03f3e87"
      },
      "outputs": [],
      "source": [
        "# Main path\n",
        "train_data_path = '/content/drive/MyDrive/Test_task_computer_vision/data/train/'\n",
        "\n",
        "test_data_path = '/content/drive/MyDrive/Test_task_computer_vision/data/test/'"
      ]
    },
    {
      "cell_type": "code",
      "execution_count": 4,
      "id": "xiCAUyML4xDD",
      "metadata": {
        "id": "xiCAUyML4xDD"
      },
      "outputs": [],
      "source": [
        "classes = {\"big\": \"0\", \"small\": \"1\"}"
      ]
    },
    {
      "cell_type": "code",
      "execution_count": 5,
      "id": "ePpwpazZvbfj",
      "metadata": {
        "id": "ePpwpazZvbfj"
      },
      "outputs": [],
      "source": [
        "all_filenames_train = []\n",
        "all_categories_train = []\n",
        "for classElement in classes:\n",
        "    filenames = os.listdir(train_data_path + classElement)\n",
        "    all_filenames_train += [classElement + \"/\" + file for file in filenames]\n",
        "    all_categories_train += [classes[classElement]] * len(filenames)"
      ]
    },
    {
      "cell_type": "code",
      "execution_count": 6,
      "id": "e71c4BDk5ar6",
      "metadata": {
        "id": "e71c4BDk5ar6"
      },
      "outputs": [],
      "source": [
        "train_df = pd.DataFrame({'PICTURE': all_filenames_train,\n",
        "                         'CATEGORY': all_categories_train})"
      ]
    },
    {
      "cell_type": "code",
      "execution_count": 7,
      "id": "r0lueoYq5ipJ",
      "metadata": {
        "colab": {
          "base_uri": "https://localhost:8080/",
          "height": 206
        },
        "id": "r0lueoYq5ipJ",
        "outputId": "fef81d55-09a4-40b0-b705-f0650cd099ae"
      },
      "outputs": [
        {
          "output_type": "execute_result",
          "data": {
            "text/html": [
              "<div>\n",
              "<style scoped>\n",
              "    .dataframe tbody tr th:only-of-type {\n",
              "        vertical-align: middle;\n",
              "    }\n",
              "\n",
              "    .dataframe tbody tr th {\n",
              "        vertical-align: top;\n",
              "    }\n",
              "\n",
              "    .dataframe thead th {\n",
              "        text-align: right;\n",
              "    }\n",
              "</style>\n",
              "<table border=\"1\" class=\"dataframe\">\n",
              "  <thead>\n",
              "    <tr style=\"text-align: right;\">\n",
              "      <th></th>\n",
              "      <th>PICTURE</th>\n",
              "      <th>CATEGORY</th>\n",
              "    </tr>\n",
              "  </thead>\n",
              "  <tbody>\n",
              "    <tr>\n",
              "      <th>38</th>\n",
              "      <td>small/IMG_7901.jpeg</td>\n",
              "      <td>1</td>\n",
              "    </tr>\n",
              "    <tr>\n",
              "      <th>39</th>\n",
              "      <td>small/IMG_7903.jpeg</td>\n",
              "      <td>1</td>\n",
              "    </tr>\n",
              "    <tr>\n",
              "      <th>40</th>\n",
              "      <td>small/IMG_7904.jpeg</td>\n",
              "      <td>1</td>\n",
              "    </tr>\n",
              "    <tr>\n",
              "      <th>41</th>\n",
              "      <td>small/IMG_7906.jpeg</td>\n",
              "      <td>1</td>\n",
              "    </tr>\n",
              "    <tr>\n",
              "      <th>42</th>\n",
              "      <td>small/IMG_7907.jpeg</td>\n",
              "      <td>1</td>\n",
              "    </tr>\n",
              "  </tbody>\n",
              "</table>\n",
              "</div>"
            ],
            "text/plain": [
              "                PICTURE CATEGORY\n",
              "38  small/IMG_7901.jpeg        1\n",
              "39  small/IMG_7903.jpeg        1\n",
              "40  small/IMG_7904.jpeg        1\n",
              "41  small/IMG_7906.jpeg        1\n",
              "42  small/IMG_7907.jpeg        1"
            ]
          },
          "metadata": {},
          "execution_count": 7
        }
      ],
      "source": [
        "# Checking results\n",
        "train_df.tail()"
      ]
    },
    {
      "cell_type": "code",
      "execution_count": 8,
      "id": "ETh5xHdU5nIP",
      "metadata": {
        "colab": {
          "base_uri": "https://localhost:8080/"
        },
        "id": "ETh5xHdU5nIP",
        "outputId": "28fdcc5a-5903-4991-dbfc-64ac073540b2"
      },
      "outputs": [
        {
          "output_type": "stream",
          "name": "stdout",
          "text": [
            "<class 'pandas.core.frame.DataFrame'>\n",
            "RangeIndex: 43 entries, 0 to 42\n",
            "Data columns (total 2 columns):\n",
            " #   Column    Non-Null Count  Dtype \n",
            "---  ------    --------------  ----- \n",
            " 0   PICTURE   43 non-null     object\n",
            " 1   CATEGORY  43 non-null     object\n",
            "dtypes: object(2)\n",
            "memory usage: 816.0+ bytes\n"
          ]
        }
      ],
      "source": [
        "train_df.info()"
      ]
    },
    {
      "cell_type": "code",
      "execution_count": 9,
      "id": "intSOjIe5qpu",
      "metadata": {
        "id": "intSOjIe5qpu"
      },
      "outputs": [],
      "source": [
        "all_filenames_test = []\n",
        "all_categories_test = []\n",
        "for classElement in classes:\n",
        "    filenames = os.listdir(test_data_path + classElement)\n",
        "    all_filenames_test += [classElement + \"/\" + file for file in filenames]\n",
        "    all_categories_test += [classes[classElement]] * len(filenames)"
      ]
    },
    {
      "cell_type": "code",
      "execution_count": 10,
      "id": "ykXIbC0b5qzP",
      "metadata": {
        "id": "ykXIbC0b5qzP"
      },
      "outputs": [],
      "source": [
        "test_df = pd.DataFrame({'PICTURE': all_filenames_test,\n",
        "                        'CATEGORY': all_categories_test})"
      ]
    },
    {
      "cell_type": "code",
      "execution_count": 11,
      "id": "4rrJ8CnY5q3y",
      "metadata": {
        "colab": {
          "base_uri": "https://localhost:8080/",
          "height": 206
        },
        "id": "4rrJ8CnY5q3y",
        "outputId": "28cb806d-bf8f-473d-c46d-a7898383db6c"
      },
      "outputs": [
        {
          "output_type": "execute_result",
          "data": {
            "text/html": [
              "<div>\n",
              "<style scoped>\n",
              "    .dataframe tbody tr th:only-of-type {\n",
              "        vertical-align: middle;\n",
              "    }\n",
              "\n",
              "    .dataframe tbody tr th {\n",
              "        vertical-align: top;\n",
              "    }\n",
              "\n",
              "    .dataframe thead th {\n",
              "        text-align: right;\n",
              "    }\n",
              "</style>\n",
              "<table border=\"1\" class=\"dataframe\">\n",
              "  <thead>\n",
              "    <tr style=\"text-align: right;\">\n",
              "      <th></th>\n",
              "      <th>PICTURE</th>\n",
              "      <th>CATEGORY</th>\n",
              "    </tr>\n",
              "  </thead>\n",
              "  <tbody>\n",
              "    <tr>\n",
              "      <th>16</th>\n",
              "      <td>small/IMG_7896.jpeg</td>\n",
              "      <td>1</td>\n",
              "    </tr>\n",
              "    <tr>\n",
              "      <th>17</th>\n",
              "      <td>small/IMG_7899.jpeg</td>\n",
              "      <td>1</td>\n",
              "    </tr>\n",
              "    <tr>\n",
              "      <th>18</th>\n",
              "      <td>small/IMG_7902.jpeg</td>\n",
              "      <td>1</td>\n",
              "    </tr>\n",
              "    <tr>\n",
              "      <th>19</th>\n",
              "      <td>small/IMG_7905.jpeg</td>\n",
              "      <td>1</td>\n",
              "    </tr>\n",
              "    <tr>\n",
              "      <th>20</th>\n",
              "      <td>small/IMG_7915.jpeg</td>\n",
              "      <td>1</td>\n",
              "    </tr>\n",
              "  </tbody>\n",
              "</table>\n",
              "</div>"
            ],
            "text/plain": [
              "                PICTURE CATEGORY\n",
              "16  small/IMG_7896.jpeg        1\n",
              "17  small/IMG_7899.jpeg        1\n",
              "18  small/IMG_7902.jpeg        1\n",
              "19  small/IMG_7905.jpeg        1\n",
              "20  small/IMG_7915.jpeg        1"
            ]
          },
          "metadata": {},
          "execution_count": 11
        }
      ],
      "source": [
        "# Checking results\n",
        "test_df.tail()"
      ]
    },
    {
      "cell_type": "code",
      "execution_count": 12,
      "id": "uiNaXRE753eB",
      "metadata": {
        "colab": {
          "base_uri": "https://localhost:8080/"
        },
        "id": "uiNaXRE753eB",
        "outputId": "d17cc2a5-247f-4373-86ee-d37d8b20c5a7"
      },
      "outputs": [
        {
          "output_type": "stream",
          "name": "stdout",
          "text": [
            "<class 'pandas.core.frame.DataFrame'>\n",
            "RangeIndex: 21 entries, 0 to 20\n",
            "Data columns (total 2 columns):\n",
            " #   Column    Non-Null Count  Dtype \n",
            "---  ------    --------------  ----- \n",
            " 0   PICTURE   21 non-null     object\n",
            " 1   CATEGORY  21 non-null     object\n",
            "dtypes: object(2)\n",
            "memory usage: 464.0+ bytes\n"
          ]
        }
      ],
      "source": [
        "test_df.info()"
      ]
    },
    {
      "cell_type": "code",
      "execution_count": 13,
      "id": "f-y-NWJF2PmC",
      "metadata": {
        "colab": {
          "base_uri": "https://localhost:8080/",
          "height": 206
        },
        "id": "f-y-NWJF2PmC",
        "outputId": "3cc951db-cb41-4044-b5b9-ab0507c21ed0"
      },
      "outputs": [
        {
          "output_type": "execute_result",
          "data": {
            "text/html": [
              "<div>\n",
              "<style scoped>\n",
              "    .dataframe tbody tr th:only-of-type {\n",
              "        vertical-align: middle;\n",
              "    }\n",
              "\n",
              "    .dataframe tbody tr th {\n",
              "        vertical-align: top;\n",
              "    }\n",
              "\n",
              "    .dataframe thead th {\n",
              "        text-align: right;\n",
              "    }\n",
              "</style>\n",
              "<table border=\"1\" class=\"dataframe\">\n",
              "  <thead>\n",
              "    <tr style=\"text-align: right;\">\n",
              "      <th></th>\n",
              "      <th>PICTURE</th>\n",
              "      <th>CATEGORY</th>\n",
              "    </tr>\n",
              "  </thead>\n",
              "  <tbody>\n",
              "    <tr>\n",
              "      <th>0</th>\n",
              "      <td>small/IMG_7900.jpeg</td>\n",
              "      <td>1</td>\n",
              "    </tr>\n",
              "    <tr>\n",
              "      <th>1</th>\n",
              "      <td>big/IMG_7849.jpeg</td>\n",
              "      <td>0</td>\n",
              "    </tr>\n",
              "    <tr>\n",
              "      <th>2</th>\n",
              "      <td>big/IMG_7852.jpeg</td>\n",
              "      <td>0</td>\n",
              "    </tr>\n",
              "    <tr>\n",
              "      <th>3</th>\n",
              "      <td>small/IMG_7898.jpeg</td>\n",
              "      <td>1</td>\n",
              "    </tr>\n",
              "    <tr>\n",
              "      <th>4</th>\n",
              "      <td>small/IMG_7895.jpeg</td>\n",
              "      <td>1</td>\n",
              "    </tr>\n",
              "  </tbody>\n",
              "</table>\n",
              "</div>"
            ],
            "text/plain": [
              "               PICTURE CATEGORY\n",
              "0  small/IMG_7900.jpeg        1\n",
              "1    big/IMG_7849.jpeg        0\n",
              "2    big/IMG_7852.jpeg        0\n",
              "3  small/IMG_7898.jpeg        1\n",
              "4  small/IMG_7895.jpeg        1"
            ]
          },
          "metadata": {},
          "execution_count": 13
        }
      ],
      "source": [
        "# Shuffling train data \n",
        "train_df = train_df.sample(frac=1, random_state=42).reset_index(drop=True)\n",
        "train_df.head()"
      ]
    },
    {
      "cell_type": "markdown",
      "id": "9d895f1e-6f01-4e5b-9450-c6b9863d37af",
      "metadata": {
        "id": "9d895f1e-6f01-4e5b-9450-c6b9863d37af"
      },
      "source": [
        "### VISUALIZATION: Distribution of classes"
      ]
    },
    {
      "cell_type": "code",
      "execution_count": 14,
      "id": "4b9458ee-b4be-40a7-8b21-abaee3d4dd5a",
      "metadata": {
        "colab": {
          "base_uri": "https://localhost:8080/",
          "height": 597
        },
        "id": "4b9458ee-b4be-40a7-8b21-abaee3d4dd5a",
        "outputId": "b4e5141d-2f33-4cf4-c4f9-42dbd38f2e06"
      },
      "outputs": [
        {
          "output_type": "display_data",
          "data": {
            "image/png": "[encoded data removed]",
            "text/plain": [
              "<Figure size 432x288 with 1 Axes>"
            ]
          },
          "metadata": {
            "needs_background": "light"
          }
        },
        {
          "output_type": "display_data",
          "data": {
            "image/png": "[encoded data removed]",
            "text/plain": [
              "<Figure size 360x360 with 1 Axes>"
            ]
          },
          "metadata": {}
        }
      ],
      "source": [
        "# General\n",
        "sns.countplot(train_df[\"CATEGORY\"])\n",
        "plt.title('Distribution of classes in train dataframe')\n",
        "plt.show()\n",
        "\n",
        "plt.title('Distribution of classes in train dataframe')\n",
        "train_df['CATEGORY'].value_counts().plot.pie(figsize=(5, 5))\n",
        "plt.show()"
      ]
    },
    {
      "cell_type": "code",
      "execution_count": 15,
      "id": "e5393c3f-2638-473c-b72f-16b0ed307fd5",
      "metadata": {
        "colab": {
          "base_uri": "https://localhost:8080/",
          "height": 597
        },
        "id": "e5393c3f-2638-473c-b72f-16b0ed307fd5",
        "outputId": "b360fdd7-7673-4f7a-bcc8-d78958cbae85"
      },
      "outputs": [
        {
          "output_type": "display_data",
          "data": {
            "image/png": "[encoded data removed]",
            "text/plain": [
              "<Figure size 432x288 with 1 Axes>"
            ]
          },
          "metadata": {
            "needs_background": "light"
          }
        },
        {
          "output_type": "display_data",
          "data": {
            "image/png": "[encoded data removed]",
            "text/plain": [
              "<Figure size 360x360 with 1 Axes>"
            ]
          },
          "metadata": {}
        }
      ],
      "source": [
        "sns.countplot(test_df[\"CATEGORY\"])\n",
        "plt.title('Distribution of classes in test dataframe')\n",
        "plt.show()\n",
        "\n",
        "plt.title('Distribution of classes in test dataframe')\n",
        "test_df['CATEGORY'].value_counts().plot.pie(figsize=(5, 5))\n",
        "plt.show()"
      ]
    },
    {
      "cell_type": "markdown",
      "id": "3cef34e4-483e-435d-8757-e6d17b544302",
      "metadata": {
        "id": "3cef34e4-483e-435d-8757-e6d17b544302"
      },
      "source": [
        "### DATA PREPARATION"
      ]
    },
    {
      "cell_type": "code",
      "execution_count": 16,
      "id": "38e86a03-2669-46a9-ab70-707a78ba281b",
      "metadata": {
        "colab": {
          "base_uri": "https://localhost:8080/"
        },
        "id": "38e86a03-2669-46a9-ab70-707a78ba281b",
        "outputId": "32678a76-2534-4225-be55-7803e3100dac"
      },
      "outputs": [
        {
          "output_type": "stream",
          "name": "stdout",
          "text": [
            "Train class value counts: \n",
            "0    27\n",
            "1    16\n",
            "Name: CATEGORY, dtype: int64\n",
            "Test class value counts: \n",
            "0    13\n",
            "1     8\n",
            "Name: CATEGORY, dtype: int64\n"
          ]
        }
      ],
      "source": [
        "print(f'Train class value counts: \\n{train_df[\"CATEGORY\"].value_counts()}')\n",
        "print(f'Test class value counts: \\n{test_df[\"CATEGORY\"].value_counts()}')"
      ]
    },
    {
      "cell_type": "markdown",
      "id": "123cb2f9-92ed-4332-9e2e-d18949a247f0",
      "metadata": {
        "id": "123cb2f9-92ed-4332-9e2e-d18949a247f0"
      },
      "source": [
        "#### Image generator"
      ]
    },
    {
      "cell_type": "code",
      "execution_count": 17,
      "id": "650e7883-5202-4790-95b3-39219236085b",
      "metadata": {
        "id": "650e7883-5202-4790-95b3-39219236085b"
      },
      "outputs": [],
      "source": [
        "train_generator = ImageDataGenerator(rescale=1. / 256,\n",
        "                                     shear_range=0.25,\n",
        "                                     zoom_range=0.2,\n",
        "                                     rotation_range=30,\n",
        "                                     width_shift_range=0.15,\n",
        "                                     height_shift_range=0.15,\n",
        "                                     horizontal_flip=True,\n",
        "                                     vertical_flip=True,\n",
        "                                     fill_mode='reflect')"
      ]
    },
    {
      "cell_type": "code",
      "execution_count": 18,
      "id": "5c95afa8-24a7-4e13-99ad-d12931bf4552",
      "metadata": {
        "id": "5c95afa8-24a7-4e13-99ad-d12931bf4552"
      },
      "outputs": [],
      "source": [
        "validation_generator = ImageDataGenerator(rescale=1. / 256)"
      ]
    },
    {
      "cell_type": "code",
      "execution_count": 19,
      "id": "5aac264b-5935-40db-8d15-c4bc80fa66c5",
      "metadata": {
        "id": "5aac264b-5935-40db-8d15-c4bc80fa66c5"
      },
      "outputs": [],
      "source": [
        "test_generator = ImageDataGenerator(rescale=1. / 256)"
      ]
    },
    {
      "cell_type": "markdown",
      "id": "52225fa8-a012-4365-92bf-edac2ce95258",
      "metadata": {
        "id": "52225fa8-a012-4365-92bf-edac2ce95258"
      },
      "source": [
        "#### Applying generator and transformation to tensor"
      ]
    },
    {
      "cell_type": "code",
      "execution_count": 20,
      "id": "81ec8736-b80d-4064-95c0-6ff016cf1572",
      "metadata": {
        "colab": {
          "base_uri": "https://localhost:8080/"
        },
        "id": "81ec8736-b80d-4064-95c0-6ff016cf1572",
        "outputId": "2e2c7a57-8cbd-4706-8054-ff9cd1d62a45"
      },
      "outputs": [
        {
          "output_type": "stream",
          "name": "stdout",
          "text": [
            "Preparing the training data:\n",
            "Found 43 validated image filenames belonging to 2 classes.\n"
          ]
        }
      ],
      "source": [
        "print(\"Preparing the training data:\")\n",
        "train_images = train_generator.flow_from_dataframe(train_df,\n",
        "                                                   directory=train_data_path,\n",
        "                                                   x_col='PICTURE',\n",
        "                                                   y_col='CATEGORY',\n",
        "                                                   target_size=(500, 500),\n",
        "                                                   class_mode='binary',\n",
        "                                                   batch_size=24)\n"
      ]
    },
    {
      "cell_type": "code",
      "execution_count": 21,
      "id": "da2002ea-7857-4adf-90ea-803389762ce6",
      "metadata": {
        "colab": {
          "base_uri": "https://localhost:8080/"
        },
        "id": "da2002ea-7857-4adf-90ea-803389762ce6",
        "outputId": "b414bae4-3dae-4528-b585-5c7d4ca6ab10"
      },
      "outputs": [
        {
          "output_type": "stream",
          "name": "stdout",
          "text": [
            "Preparing the validation data:\n",
            "Found 43 validated image filenames belonging to 2 classes.\n"
          ]
        }
      ],
      "source": [
        "print(\"Preparing the validation data:\")\n",
        "valid_images = validation_generator.flow_from_dataframe(train_df,\n",
        "                                                        directory=train_data_path,\n",
        "                                                        x_col='PICTURE',\n",
        "                                                        y_col='CATEGORY',\n",
        "                                                        target_size=(500, 500),\n",
        "                                                        class_mode='binary',\n",
        "                                                        batch_size=24)"
      ]
    },
    {
      "cell_type": "code",
      "execution_count": 22,
      "id": "40cb3e1c-374d-40d5-bf0f-c304626b070e",
      "metadata": {
        "colab": {
          "base_uri": "https://localhost:8080/"
        },
        "id": "40cb3e1c-374d-40d5-bf0f-c304626b070e",
        "outputId": "372f90df-25bb-4181-94d4-8c27840dc831"
      },
      "outputs": [
        {
          "output_type": "stream",
          "name": "stdout",
          "text": [
            "Preparing the test data:\n",
            "Found 21 validated image filenames belonging to 2 classes.\n"
          ]
        }
      ],
      "source": [
        "print(\"Preparing the test data:\")\n",
        "test_images = test_generator.flow_from_dataframe(dataframe=test_df,\n",
        "                                                 directory=test_data_path,\n",
        "                                                 x_col='PICTURE',\n",
        "                                                 y_col='CATEGORY',\n",
        "                                                 target_size=(500, 500),\n",
        "                                                 class_mode='binary',\n",
        "                                                 batch_size=24)"
      ]
    },
    {
      "cell_type": "code",
      "execution_count": 23,
      "id": "9b228974-d642-461e-84cc-adbbd2f254c2",
      "metadata": {
        "colab": {
          "base_uri": "https://localhost:8080/"
        },
        "id": "9b228974-d642-461e-84cc-adbbd2f254c2",
        "outputId": "a75613d9-b82f-47df-92c3-ee0aff537b69"
      },
      "outputs": [
        {
          "output_type": "stream",
          "name": "stdout",
          "text": [
            "Checking the training data:\n",
            "DATA SHAPE:  (24, 500, 500, 3)\n",
            "LABEL SHAPE:  (24,)\n"
          ]
        }
      ],
      "source": [
        "# Checking\n",
        "print(\"Checking the training data:\")\n",
        "for data_batch, label_batch in train_images:\n",
        "    print(\"DATA SHAPE: \", data_batch.shape)\n",
        "    print(\"LABEL SHAPE: \", label_batch.shape)\n",
        "    break"
      ]
    },
    {
      "cell_type": "code",
      "execution_count": 24,
      "id": "ab90a08e-a0f3-4915-baea-6196d61c1a73",
      "metadata": {
        "colab": {
          "base_uri": "https://localhost:8080/"
        },
        "id": "ab90a08e-a0f3-4915-baea-6196d61c1a73",
        "outputId": "a5b4b5dc-acfb-4363-a0ad-5ef6f7885f9c"
      },
      "outputs": [
        {
          "output_type": "stream",
          "name": "stdout",
          "text": [
            "Checking the validation data:\n",
            "DATA SHAPE:  (24, 500, 500, 3)\n",
            "LABEL SHAPE:  (24,)\n"
          ]
        }
      ],
      "source": [
        "print(\"Checking the validation data:\")\n",
        "for data_batch, label_batch in valid_images:\n",
        "    print(\"DATA SHAPE: \", data_batch.shape)\n",
        "    print(\"LABEL SHAPE: \", label_batch.shape)\n",
        "    break"
      ]
    },
    {
      "cell_type": "code",
      "execution_count": 25,
      "id": "b8ae7a6a-dfd2-475a-b1ec-2503e3a424d9",
      "metadata": {
        "colab": {
          "base_uri": "https://localhost:8080/"
        },
        "id": "b8ae7a6a-dfd2-475a-b1ec-2503e3a424d9",
        "outputId": "2bcbb89b-3f94-47f9-b58b-3a732d034ead"
      },
      "outputs": [
        {
          "output_type": "stream",
          "name": "stdout",
          "text": [
            "Checking the test data:\n",
            "DATA SHAPE:  (21, 500, 500, 3)\n",
            "LABEL SHAPE:  (21,)\n"
          ]
        }
      ],
      "source": [
        "print(\"Checking the test data:\")\n",
        "for data_batch, label_batch in test_images:\n",
        "    print(\"DATA SHAPE: \", data_batch.shape)\n",
        "    print(\"LABEL SHAPE: \", label_batch.shape)\n",
        "    break"
      ]
    },
    {
      "cell_type": "markdown",
      "id": "9af1951c-51b9-4192-817f-a4b68428ca16",
      "metadata": {
        "id": "9af1951c-51b9-4192-817f-a4b68428ca16"
      },
      "source": [
        "### Evaluation and visualization of model parameters"
      ]
    },
    {
      "cell_type": "code",
      "execution_count": 26,
      "id": "b019b7c5-1ea0-4901-a877-336bb549fc6f",
      "metadata": {
        "id": "b019b7c5-1ea0-4901-a877-336bb549fc6f"
      },
      "outputs": [],
      "source": [
        "def learning_curves(history):\n",
        "    pd.DataFrame(history.history).plot(figsize=(20, 8))\n",
        "    plt.grid(True)\n",
        "    plt.title('Learning curves')\n",
        "    plt.gca().set_ylim(0, 1)\n",
        "    plt.show()\n",
        "\n",
        "\n",
        "def evaluation_model(history):\n",
        "    fig, (axL, axR) = plt.subplots(ncols=2, figsize=(20, 8))\n",
        "    axL.plot(history.history['loss'], label=\"Training loss\")\n",
        "    axL.plot(history.history['val_loss'], label=\"Validation loss\")\n",
        "    axL.set_title('Training and Validation loss')\n",
        "    axL.set_xlabel('Epochs')\n",
        "    axL.set_ylabel('Loss')\n",
        "    axL.legend(loc='upper right')\n",
        "\n",
        "    axR.plot(history.history['accuracy'], label=\"Training accuracy\")\n",
        "    axR.plot(history.history['val_accuracy'], label=\"Validation accuracy\")\n",
        "    axR.set_title('Training and Validation accuracy')\n",
        "    axR.set_xlabel('Epoch')\n",
        "    axR.set_ylabel('Accuracy')\n",
        "    axR.legend(loc='upper right')\n",
        "\n",
        "    plt.show()\n",
        "\n",
        "\n",
        "def model_confusion_matrix(y_true, y_pred, classes=None, figsize=(10, 10), text_size=15):\n",
        "    # Create the confustion matrix\n",
        "    cm = confusion_matrix(y_true, y_pred)\n",
        "    cm_norm = cm.astype(\"float\") / cm.sum(axis=1)[:, np.newaxis]\n",
        "    n_classes = cm.shape[0]\n",
        "\n",
        "    # Plot the figure and make it pretty\n",
        "    fig, ax = plt.subplots(figsize=figsize)\n",
        "    cax = ax.matshow(cm, cmap=plt.cm.Blues)  # colors will represent how 'correct' a class is, darker == better\n",
        "    fig.colorbar(cax)\n",
        "\n",
        "    # Are there a list of classes?\n",
        "    if classes:\n",
        "        labels = classes\n",
        "    else:\n",
        "        labels = np.arange(cm.shape[0])\n",
        "\n",
        "    # Label the axes\n",
        "    ax.set(title=\"Confusion Matrix\",\n",
        "           xlabel=\"Predicted label\",\n",
        "           ylabel=\"True label\",\n",
        "           xticks=np.arange(n_classes),  # create enough axis slots for each class\n",
        "           yticks=np.arange(n_classes),\n",
        "           xticklabels=labels,  # axes will labeled with class names (if they exist) or ints\n",
        "           yticklabels=labels)\n",
        "\n",
        "    # Make x-axis labels appear on bottom\n",
        "    ax.xaxis.set_label_position(\"bottom\")\n",
        "    ax.xaxis.tick_bottom()\n",
        "\n",
        "    # Set the threshold for different colors\n",
        "    threshold = (cm.max() + cm.min()) / 2.\n",
        "\n",
        "    # Plot the text on each cell\n",
        "    for i, j in itertools.product(range(cm.shape[0]), range(cm.shape[1])):\n",
        "        plt.text(j, i, f\"{cm[i, j]} ({cm_norm[i, j] * 100:.1f}%)\",\n",
        "                 horizontalalignment=\"center\",\n",
        "                 color=\"white\" if cm[i, j] > threshold else \"black\",\n",
        "                 size=text_size)\n",
        "    plt.show()"
      ]
    },
    {
      "cell_type": "markdown",
      "id": "bf185b20-97d1-46bf-93e2-5eef64981cec",
      "metadata": {
        "id": "bf185b20-97d1-46bf-93e2-5eef64981cec"
      },
      "source": [
        "# MODEL: Tiny VGG"
      ]
    },
    {
      "cell_type": "code",
      "execution_count": 28,
      "id": "f6daa2a5-2d20-4e9e-9a9a-d1290e3ba997",
      "metadata": {
        "id": "f6daa2a5-2d20-4e9e-9a9a-d1290e3ba997"
      },
      "outputs": [],
      "source": [
        "\n",
        "model = Sequential([\n",
        "  Conv2D(50, 3, activation='relu', input_shape=(500, 500, 3)),\n",
        "  Conv2D(50, 3, activation='relu'),\n",
        "  MaxPool2D(),\n",
        "  Conv2D(50, 3, activation='relu'),\n",
        "  Conv2D(50, 3, activation='relu'),\n",
        "  MaxPool2D(),\n",
        "  Flatten(),\n",
        "  Dense(64, activation='relu'),\n",
        "  Dense(1, activation='sigmoid')\n",
        "])\n"
      ]
    },
    {
      "cell_type": "code",
      "execution_count": 29,
      "id": "12bb4130-659c-4f82-8486-27c74fda78b0",
      "metadata": {
        "id": "12bb4130-659c-4f82-8486-27c74fda78b0"
      },
      "outputs": [],
      "source": [
        "# Compile the model\n",
        "model.compile(optimizer=tf.keras.optimizers.Adam(),\n",
        "                  loss='binary_crossentropy',\n",
        "                  metrics=[\"accuracy\"])"
      ]
    },
    {
      "cell_type": "code",
      "execution_count": 30,
      "id": "bc032f4f-aadb-47e1-833f-b4a17d707f3f",
      "metadata": {
        "colab": {
          "base_uri": "https://localhost:8080/"
        },
        "id": "bc032f4f-aadb-47e1-833f-b4a17d707f3f",
        "outputId": "314ea16a-cb74-4249-c162-02cb8e3186ad"
      },
      "outputs": [
        {
          "output_type": "stream",
          "name": "stdout",
          "text": [
            "Model: \"sequential\"\n",
            "_________________________________________________________________\n",
            " Layer (type)                Output Shape              Param #   \n",
            "=================================================================\n",
            " conv2d (Conv2D)             (None, 498, 498, 50)      1400      \n",
            "                                                                 \n",
            " conv2d_1 (Conv2D)           (None, 496, 496, 50)      22550     \n",
            "                                                                 \n",
            " max_pooling2d (MaxPooling2D  (None, 248, 248, 50)     0         \n",
            " )                                                               \n",
            "                                                                 \n",
            " conv2d_2 (Conv2D)           (None, 246, 246, 50)      22550     \n",
            "                                                                 \n",
            " conv2d_3 (Conv2D)           (None, 244, 244, 50)      22550     \n",
            "                                                                 \n",
            " max_pooling2d_1 (MaxPooling  (None, 122, 122, 50)     0         \n",
            " 2D)                                                             \n",
            "                                                                 \n",
            " flatten (Flatten)           (None, 744200)            0         \n",
            "                                                                 \n",
            " dense (Dense)               (None, 64)                47628864  \n",
            "                                                                 \n",
            " dense_1 (Dense)             (None, 1)                 65        \n",
            "                                                                 \n",
            "=================================================================\n",
            "Total params: 47,697,979\n",
            "Trainable params: 47,697,979\n",
            "Non-trainable params: 0\n",
            "_________________________________________________________________\n"
          ]
        }
      ],
      "source": [
        "model.summary()"
      ]
    },
    {
      "cell_type": "code",
      "execution_count": 31,
      "id": "1bc97d84-17ce-4327-8caa-812d2b6783a7",
      "metadata": {
        "colab": {
          "base_uri": "https://localhost:8080/"
        },
        "id": "1bc97d84-17ce-4327-8caa-812d2b6783a7",
        "outputId": "f5eb6807-33db-4d26-a03d-ab6442689926"
      },
      "outputs": [
        {
          "output_type": "stream",
          "name": "stdout",
          "text": [
            "Epoch 1/10\n",
            "2/2 [==============================] - 31s 22s/step - loss: 6.9051 - accuracy: 0.6279 - val_loss: 0.6521 - val_accuracy: 0.6279\n",
            "Epoch 2/10\n",
            "2/2 [==============================] - 22s 15s/step - loss: 1.2518 - accuracy: 0.4651 - val_loss: 0.8178 - val_accuracy: 0.3721\n",
            "Epoch 3/10\n",
            "2/2 [==============================] - 22s 17s/step - loss: 0.7678 - accuracy: 0.6047 - val_loss: 1.1737 - val_accuracy: 0.3721\n",
            "Epoch 4/10\n",
            "2/2 [==============================] - 22s 17s/step - loss: 0.9512 - accuracy: 0.4186 - val_loss: 0.6950 - val_accuracy: 0.6279\n",
            "Epoch 5/10\n",
            "2/2 [==============================] - 22s 17s/step - loss: 0.6887 - accuracy: 0.6279 - val_loss: 0.6807 - val_accuracy: 0.6279\n",
            "Epoch 6/10\n",
            "2/2 [==============================] - 22s 17s/step - loss: 0.6926 - accuracy: 0.5116 - val_loss: 0.6715 - val_accuracy: 0.6279\n",
            "Epoch 7/10\n",
            "2/2 [==============================] - 22s 17s/step - loss: 0.6773 - accuracy: 0.6279 - val_loss: 0.6614 - val_accuracy: 0.6279\n",
            "Epoch 8/10\n",
            "2/2 [==============================] - 22s 15s/step - loss: 0.6599 - accuracy: 0.6279 - val_loss: 0.6565 - val_accuracy: 0.6279\n",
            "Epoch 9/10\n",
            "2/2 [==============================] - 22s 17s/step - loss: 0.6607 - accuracy: 0.6279 - val_loss: 0.6460 - val_accuracy: 0.6279\n",
            "Epoch 10/10\n",
            "2/2 [==============================] - 22s 17s/step - loss: 0.6679 - accuracy: 0.6279 - val_loss: 0.6372 - val_accuracy: 0.6279\n"
          ]
        }
      ],
      "source": [
        "history = model.fit(train_images,\n",
        "                    validation_data=valid_images,\n",
        "                    epochs=10)"
      ]
    },
    {
      "cell_type": "code",
      "execution_count": 32,
      "id": "f811781f-889d-4593-9d0d-8287709780aa",
      "metadata": {
        "colab": {
          "base_uri": "https://localhost:8080/",
          "height": 499
        },
        "id": "f811781f-889d-4593-9d0d-8287709780aa",
        "outputId": "4e273493-8f88-4017-d6bf-438c8c1611a4"
      },
      "outputs": [
        {
          "output_type": "display_data",
          "data": {
            "image/png": "[encoded data removed]",
            "text/plain": [
              "<Figure size 1440x576 with 1 Axes>"
            ]
          },
          "metadata": {
            "needs_background": "light"
          }
        }
      ],
      "source": [
        "# Learning curves\n",
        "learning_curves(history)"
      ]
    },
    {
      "cell_type": "code",
      "execution_count": 33,
      "id": "uEbmzKjfrEt-",
      "metadata": {
        "colab": {
          "base_uri": "https://localhost:8080/",
          "height": 513
        },
        "id": "uEbmzKjfrEt-",
        "outputId": "e70da8cc-aa77-41e8-dd15-e91ed4bed118"
      },
      "outputs": [
        {
          "output_type": "display_data",
          "data": {
            "image/png": "[encoded data removed]",
            "text/plain": [
              "<Figure size 1440x576 with 2 Axes>"
            ]
          },
          "metadata": {
            "needs_background": "light"
          }
        }
      ],
      "source": [
        "# Evaluation model\n",
        "evaluation_model(history)"
      ]
    },
    {
      "cell_type": "code",
      "execution_count": 34,
      "id": "TCo6XjCsrGZ2",
      "metadata": {
        "colab": {
          "base_uri": "https://localhost:8080/"
        },
        "id": "TCo6XjCsrGZ2",
        "outputId": "c94b6ea6-5a72-4841-95da-a8840d2c63ba"
      },
      "outputs": [
        {
          "output_type": "stream",
          "name": "stdout",
          "text": [
            "1/1 - 6s - loss: 0.6425 - accuracy: 0.6190 - 6s/epoch - 6s/step\n"
          ]
        }
      ],
      "source": [
        "# Evaluate the model on the test set\n",
        "evaluate = model.evaluate(test_images, verbose=2)"
      ]
    },
    {
      "cell_type": "code",
      "execution_count": 35,
      "id": "CvoF6LgfrIqA",
      "metadata": {
        "id": "CvoF6LgfrIqA"
      },
      "outputs": [],
      "source": [
        "# Predicting the test set results\n",
        "threshold = 0.5\n",
        "\n",
        "y_pred = model.predict(test_images)\n",
        "y_pred_class = np.where(y_pred > threshold, 1,0)\n",
        "\n",
        "prediction_class = LabelEncoder().fit_transform(test_df[\"CATEGORY\"])"
      ]
    },
    {
      "cell_type": "code",
      "execution_count": 36,
      "id": "f56lzCNCt0Xh",
      "metadata": {
        "colab": {
          "base_uri": "https://localhost:8080/",
          "height": 580
        },
        "id": "f56lzCNCt0Xh",
        "outputId": "ec3c4734-1530-4a0a-b036-e8321f65f8c2"
      },
      "outputs": [
        {
          "output_type": "display_data",
          "data": {
            "image/png": "[encoded data removed]",
            "text/plain": [
              "<Figure size 720x720 with 2 Axes>"
            ]
          },
          "metadata": {
            "needs_background": "light"
          }
        }
      ],
      "source": [
        "# Confusion matrix\n",
        "model_confusion_matrix(prediction_class, y_pred_class)"
      ]
    },
    {
      "cell_type": "code",
      "execution_count": 37,
      "id": "IBKZgm4bu4VR",
      "metadata": {
        "id": "IBKZgm4bu4VR",
        "colab": {
          "base_uri": "https://localhost:8080/"
        },
        "outputId": "87f89a19-5641-45e1-dfdd-7d31739c85cf"
      },
      "outputs": [
        {
          "output_type": "stream",
          "name": "stdout",
          "text": [
            "              precision    recall  f1-score   support\n",
            "\n",
            "         big       0.62      1.00      0.76        13\n",
            "       small       0.00      0.00      0.00         8\n",
            "\n",
            "    accuracy                           0.62        21\n",
            "   macro avg       0.31      0.50      0.38        21\n",
            "weighted avg       0.38      0.62      0.47        21\n",
            "\n"
          ]
        },
        {
          "output_type": "stream",
          "name": "stderr",
          "text": [
            "/usr/local/lib/python3.7/dist-packages/sklearn/metrics/_classification.py:1308: UndefinedMetricWarning: Precision and F-score are ill-defined and being set to 0.0 in labels with no predicted samples. Use `zero_division` parameter to control this behavior.\n",
            "  _warn_prf(average, modifier, msg_start, len(result))\n",
            "/usr/local/lib/python3.7/dist-packages/sklearn/metrics/_classification.py:1308: UndefinedMetricWarning: Precision and F-score are ill-defined and being set to 0.0 in labels with no predicted samples. Use `zero_division` parameter to control this behavior.\n",
            "  _warn_prf(average, modifier, msg_start, len(result))\n",
            "/usr/local/lib/python3.7/dist-packages/sklearn/metrics/_classification.py:1308: UndefinedMetricWarning: Precision and F-score are ill-defined and being set to 0.0 in labels with no predicted samples. Use `zero_division` parameter to control this behavior.\n",
            "  _warn_prf(average, modifier, msg_start, len(result))\n"
          ]
        }
      ],
      "source": [
        "# Classification report\n",
        "report = classification_report(prediction_class, y_pred_class, target_names=['big','small'])\n",
        "print(report)"
      ]
    },
    {
      "cell_type": "code",
      "source": [
        ""
      ],
      "metadata": {
        "id": "aTjFCUFnYDUV"
      },
      "id": "aTjFCUFnYDUV",
      "execution_count": 37,
      "outputs": []
    }
  ],
  "metadata": {
    "accelerator": "GPU",
    "colab": {
      "collapsed_sections": [],
      "machine_shape": "hm",
      "name": "Part_classifier_Tiny_VGG.ipynb",
      "provenance": []
    },
    "kernelspec": {
      "display_name": "Python 3 (ipykernel)",
      "language": "python",
      "name": "python3"
    },
    "language_info": {
      "codemirror_mode": {
        "name": "ipython",
        "version": 3
      },
      "file_extension": ".py",
      "mimetype": "text/x-python",
      "name": "python",
      "nbconvert_exporter": "python",
      "pygments_lexer": "ipython3",
      "version": "3.8.12"
    }
  },
  "nbformat": 4,
  "nbformat_minor": 5
}